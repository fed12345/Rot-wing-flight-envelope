{
 "cells": [
  {
   "cell_type": "code",
   "execution_count": 1,
   "metadata": {},
   "outputs": [],
   "source": [
    "import sys\n",
    "from os import path\n",
    "import os as os\n",
    "import matplotlib.pyplot as plt\n",
    "import tkinter as tk\n",
    "import numpy as np\n",
    "import scipy as sp\n",
    "from scipy import signal\n",
    "import pickle as pk\n",
    "import pandas as pd\n",
    "\n",
    "from log_parser.log_parser import LogParser"
   ]
  },
  {
   "cell_type": "markdown",
   "metadata": {},
   "source": [
    "Store logs in a folder(Select a full day of testing and do it for each day)"
   ]
  },
  {
   "cell_type": "code",
   "execution_count": 2,
   "metadata": {},
   "outputs": [
    {
     "ename": "FileNotFoundError",
     "evalue": "[Errno 2] No such file or directory: ''",
     "output_type": "error",
     "traceback": [
      "\u001b[0;31m---------------------------------------------------------------------------\u001b[0m",
      "\u001b[0;31mFileNotFoundError\u001b[0m                         Traceback (most recent call last)",
      "\u001b[1;32m/Users/Federico/Desktop/Rotating_wing/Code/rotating_wing_drone/EnvelopeID.ipynb Cell 3\u001b[0m in \u001b[0;36m<cell line: 6>\u001b[0;34m()\u001b[0m\n\u001b[1;32m      <a href='vscode-notebook-cell:/Users/Federico/Desktop/Rotating_wing/Code/rotating_wing_drone/EnvelopeID.ipynb#W2sZmlsZQ%3D%3D?line=2'>3</a>\u001b[0m folder_path \u001b[39m=\u001b[39m tk\u001b[39m.\u001b[39mfiledialog\u001b[39m.\u001b[39maskdirectory(title \u001b[39m=\u001b[39m \u001b[39m'\u001b[39m\u001b[39mSelect Flight Data Folder\u001b[39m\u001b[39m'\u001b[39m)\n\u001b[1;32m      <a href='vscode-notebook-cell:/Users/Federico/Desktop/Rotating_wing/Code/rotating_wing_drone/EnvelopeID.ipynb#W2sZmlsZQ%3D%3D?line=3'>4</a>\u001b[0m output_dir \u001b[39m=\u001b[39m tk\u001b[39m.\u001b[39mfiledialog\u001b[39m.\u001b[39maskdirectory(title \u001b[39m=\u001b[39m \u001b[39m'\u001b[39m\u001b[39mSelect Output Folder\u001b[39m\u001b[39m'\u001b[39m)\n\u001b[0;32m----> <a href='vscode-notebook-cell:/Users/Federico/Desktop/Rotating_wing/Code/rotating_wing_drone/EnvelopeID.ipynb#W2sZmlsZQ%3D%3D?line=5'>6</a>\u001b[0m folders \u001b[39m=\u001b[39m os\u001b[39m.\u001b[39;49mlistdir(folder_path)\n\u001b[1;32m      <a href='vscode-notebook-cell:/Users/Federico/Desktop/Rotating_wing/Code/rotating_wing_drone/EnvelopeID.ipynb#W2sZmlsZQ%3D%3D?line=6'>7</a>\u001b[0m \u001b[39mfor\u001b[39;00m f \u001b[39min\u001b[39;00m folders:\n\u001b[1;32m      <a href='vscode-notebook-cell:/Users/Federico/Desktop/Rotating_wing/Code/rotating_wing_drone/EnvelopeID.ipynb#W2sZmlsZQ%3D%3D?line=7'>8</a>\u001b[0m     flight_path \u001b[39m=\u001b[39m os\u001b[39m.\u001b[39mpath\u001b[39m.\u001b[39mjoin(folder_path,f)\n",
      "\u001b[0;31mFileNotFoundError\u001b[0m: [Errno 2] No such file or directory: ''"
     ]
    },
    {
     "ename": "",
     "evalue": "",
     "output_type": "error",
     "traceback": [
      "\u001b[1;31mThe Kernel crashed while executing code in the the current cell or a previous cell. Please review the code in the cell(s) to identify a possible cause of the failure. Click <a href='https://aka.ms/vscodeJupyterKernelCrash'>here</a> for more info. View Jupyter <a href='command:jupyter.viewOutput'>log</a> for further details."
     ]
    }
   ],
   "source": [
    "root = tk.Tk()\n",
    "root.withdraw()\n",
    "folder_path = tk.filedialog.askdirectory(title = 'Select Flight Data Folder')\n",
    "output_dir = tk.filedialog.askdirectory(title = 'Select Output Folder')\n",
    "\n",
    "folders = os.listdir(folder_path)\n",
    "for f in folders:\n",
    "    flight_path = os.path.join(folder_path,f)\n",
    "    for fil in os.listdir(flight_path):\n",
    "        if fil.endswith('SD.data'):\n",
    "            data_path = os.path.join(flight_path, fil)\n",
    "            print(data_path)\n",
    "            log = LogParser(data_path)\n",
    "            log.store_logs(output_dir)\n",
    "            break"
   ]
  },
  {
   "cell_type": "markdown",
   "metadata": {},
   "source": [
    "Merge of the flight at different wing angles(0-20,20-40,40-80,80-90) and store them in a folder"
   ]
  },
  {
   "cell_type": "code",
   "execution_count": null,
   "metadata": {},
   "outputs": [],
   "source": [
    "from flight_merger import Flightmerge"
   ]
  },
  {
   "cell_type": "code",
   "execution_count": null,
   "metadata": {},
   "outputs": [],
   "source": [
    "\n",
    "\n",
    "x = Flightmerge(output_dir)\n",
    "x.merger()\n",
    "x.store_data()\n",
    "x.plotter(2)\n",
    "plt.show()\n"
   ]
  }
 ],
 "metadata": {
  "kernelspec": {
   "display_name": "Python 3.10.4 ('standard')",
   "language": "python",
   "name": "python3"
  },
  "language_info": {
   "codemirror_mode": {
    "name": "ipython",
    "version": 3
   },
   "file_extension": ".py",
   "mimetype": "text/x-python",
   "name": "python",
   "nbconvert_exporter": "python",
   "pygments_lexer": "ipython3",
   "version": "3.10.6"
  },
  "orig_nbformat": 4,
  "vscode": {
   "interpreter": {
    "hash": "5b05c7704cf79181c8bed965b868455653c6c9d96235561b176a41ed8e39b9b9"
   }
  }
 },
 "nbformat": 4,
 "nbformat_minor": 2
}
